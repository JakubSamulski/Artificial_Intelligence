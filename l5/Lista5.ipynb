{
 "cells": [
  {
   "cell_type": "code",
   "execution_count": 112,
   "metadata": {
    "collapsed": true,
    "ExecuteTime": {
     "start_time": "2023-06-25T23:10:40.228204Z",
     "end_time": "2023-06-25T23:10:40.434742Z"
    }
   },
   "outputs": [],
   "source": [
    "import pandas as pd\n",
    "import numpy as np\n",
    "import matplotlib.pyplot as plt\n",
    "import re\n",
    "from bs4 import BeautifulSoup\n",
    "from sklearn.model_selection import train_test_split\n",
    "from sentence_transformers import SentenceTransformer\n",
    "from sklearn.neural_network import MLPRegressor\n",
    "from sklearn.metrics import mean_squared_error"
   ]
  },
  {
   "cell_type": "markdown",
   "source": [
    "import niezbędnych bibliotek"
   ],
   "metadata": {
    "collapsed": false
   }
  },
  {
   "cell_type": "code",
   "execution_count": 113,
   "outputs": [],
   "source": [
    "jokes = []\n",
    "\n",
    "for i in range(1, 101):\n",
    "    file = f'jokes/init{i}.html'\n",
    "    with open(file, 'r') as file:\n",
    "        html = file.read()\n",
    "        soup = BeautifulSoup(html, features='html.parser')\n",
    "        text = soup.extract().body.get_text().strip().replace('\\n', ' ').replace('\\t', ' ')\n",
    "        jokes.append(text)\n",
    "\n",
    "# odczyt pliku jester-data-1.xls\n",
    "ratings = pd.read_excel('jester-data-1.xls', header=None)"
   ],
   "metadata": {
    "collapsed": false,
    "ExecuteTime": {
     "start_time": "2023-06-25T23:10:40.237346Z",
     "end_time": "2023-06-25T23:10:43.775807Z"
    }
   }
  },
  {
   "cell_type": "markdown",
   "source": [
    "odczytanie ocen oraz żartów z plików html i xls"
   ],
   "metadata": {
    "collapsed": false
   }
  },
  {
   "cell_type": "code",
   "execution_count": 114,
   "outputs": [],
   "source": [
    "ratings = ratings.iloc[:, 1:]\n",
    "\n",
    "ratings = ratings.replace(99, float('nan'))\n",
    "\n",
    "# obliczenie sredniej oceny dla kazdego zartu\n",
    "ratings_mean = ratings.mean()"
   ],
   "metadata": {
    "collapsed": false,
    "ExecuteTime": {
     "start_time": "2023-06-25T23:10:43.777006Z",
     "end_time": "2023-06-25T23:10:43.826915Z"
    }
   }
  },
  {
   "cell_type": "markdown",
   "source": [
    "oczyszczenie danych oraz obliczenie średniej oceny dla każdego żartu"
   ],
   "metadata": {
    "collapsed": false
   }
  },
  {
   "cell_type": "code",
   "execution_count": null,
   "outputs": [
    {
     "name": "stderr",
     "output_type": "stream",
     "text": [
      "No sentence-transformers model found with name C:\\Users\\kubas/.cache\\torch\\sentence_transformers\\bert-base-cased. Creating a new one with MEAN pooling.\n",
      "Some weights of the model checkpoint at C:\\Users\\kubas/.cache\\torch\\sentence_transformers\\bert-base-cased were not used when initializing BertModel: ['cls.predictions.transform.LayerNorm.weight', 'cls.predictions.transform.dense.weight', 'cls.predictions.transform.LayerNorm.bias', 'cls.predictions.bias', 'cls.seq_relationship.bias', 'cls.predictions.transform.dense.bias', 'cls.seq_relationship.weight']\n",
      "- This IS expected if you are initializing BertModel from the checkpoint of a model trained on another task or with another architecture (e.g. initializing a BertForSequenceClassification model from a BertForPreTraining model).\n",
      "- This IS NOT expected if you are initializing BertModel from the checkpoint of a model that you expect to be exactly identical (initializing a BertForSequenceClassification model from a BertForSequenceClassification model).\n"
     ]
    }
   ],
   "source": [
    "model = SentenceTransformer('bert-base-cased')\n",
    "embeddings = model.encode(jokes)"
   ],
   "metadata": {
    "collapsed": false,
    "ExecuteTime": {
     "start_time": "2023-06-25T23:05:50.684680Z",
     "end_time": "2023-06-25T23:06:24.892251Z"
    },
    "pycharm": {
     "is_executing": true
    }
   }
  },
  {
   "cell_type": "markdown",
   "source": [
    "stworzenie embeddingów dla żartów"
   ],
   "metadata": {
    "collapsed": false
   }
  },
  {
   "cell_type": "code",
   "execution_count": null,
   "outputs": [],
   "source": [
    "embeddings.shape"
   ],
   "metadata": {
    "collapsed": false,
    "ExecuteTime": {
     "start_time": "2023-06-25T23:06:24.899045Z",
     "end_time": "2023-06-25T23:06:24.911921Z"
    },
    "pycharm": {
     "is_executing": true
    }
   }
  },
  {
   "cell_type": "code",
   "execution_count": null,
   "outputs": [],
   "source": [
    "ratings_mean.shape"
   ],
   "metadata": {
    "collapsed": false,
    "ExecuteTime": {
     "start_time": "2023-06-25T23:06:24.914955Z",
     "end_time": "2023-06-25T23:06:24.924199Z"
    },
    "pycharm": {
     "is_executing": true
    }
   }
  },
  {
   "cell_type": "markdown",
   "source": [
    "sprawdzenie rozmiaru embeddingów oraz ocen"
   ],
   "metadata": {
    "collapsed": false
   }
  },
  {
   "cell_type": "code",
   "execution_count": null,
   "outputs": [],
   "source": [
    "X_train, X_val, y_train, y_val = train_test_split(embeddings, ratings_mean, test_size=0.2, random_state=3)"
   ],
   "metadata": {
    "collapsed": false,
    "ExecuteTime": {
     "start_time": "2023-06-25T23:06:24.932424Z",
     "end_time": "2023-06-25T23:06:25.014538Z"
    },
    "pycharm": {
     "is_executing": true
    }
   }
  },
  {
   "cell_type": "markdown",
   "source": [
    "podział danych na zbiór treningowy oraz walidacyjny"
   ],
   "metadata": {
    "collapsed": false
   }
  },
  {
   "cell_type": "code",
   "execution_count": null,
   "outputs": [],
   "source": [
    "def learn(learning_rate=0.001, model_size=(100,), regularization=0.0):\n",
    "    mlp = MLPRegressor(solver='sgd', alpha=regularization, learning_rate='constant',\n",
    "                       learning_rate_init=learning_rate, hidden_layer_sizes=model_size)\n",
    "    loss_train = []\n",
    "    loss_val = []\n",
    "\n",
    "    for epoch in range(500):\n",
    "        mlp.partial_fit(X_train, y_train)\n",
    "\n",
    "        pred_train = mlp.predict(X_train)\n",
    "        loss_train.append(mean_squared_error(y_train, pred_train))\n",
    "\n",
    "        pred_val = mlp.predict(X_val)\n",
    "        loss_val.append(mean_squared_error(y_val, pred_val))\n",
    "\n",
    "    return loss_train, loss_val"
   ],
   "metadata": {
    "collapsed": false,
    "ExecuteTime": {
     "start_time": "2023-06-25T23:06:24.943101Z",
     "end_time": "2023-06-25T23:06:25.048207Z"
    },
    "pycharm": {
     "is_executing": true
    }
   }
  },
  {
   "cell_type": "markdown",
   "source": [
    "ustawiono 500 epok oraz stworzono funkcję learn, która zwraca stratę dla zbioru treningowego oraz walidacyjnego"
   ],
   "metadata": {
    "collapsed": false
   }
  },
  {
   "cell_type": "code",
   "execution_count": null,
   "outputs": [],
   "source": [
    "def show_plot(loss_train, loss_val):\n",
    "    plt.plot(range(len(loss_train)), loss_train, label='Train Loss')\n",
    "    plt.plot(range(len(loss_val)), loss_val, label='Validation Loss')\n",
    "    plt.xlabel('Epoch')\n",
    "    plt.ylabel('Mean Squared Error')\n",
    "    plt.legend()\n",
    "    plt.gca().set_facecolor('white')\n",
    "    plt.gca().tick_params(colors='black')\n",
    "    plt.show()"
   ],
   "metadata": {
    "collapsed": false,
    "ExecuteTime": {
     "start_time": "2023-06-25T23:06:24.972397Z",
     "end_time": "2023-06-25T23:06:25.049153Z"
    },
    "pycharm": {
     "is_executing": true
    }
   }
  },
  {
   "cell_type": "code",
   "execution_count": null,
   "outputs": [],
   "source": [
    "loss_train, loss_val = learn()\n",
    "show_plot(loss_train, loss_val)"
   ],
   "metadata": {
    "collapsed": false,
    "ExecuteTime": {
     "start_time": "2023-06-25T23:06:24.991665Z",
     "end_time": "2023-06-25T23:06:29.910107Z"
    },
    "pycharm": {
     "is_executing": true
    }
   }
  },
  {
   "cell_type": "markdown",
   "source": [
    "jak widać po około 100 epokach model zaczyna się przeuczać gdyż na na danych treningowych straty maleją, a na danych walidacyjnych są na stabilnym poziomie"
   ],
   "metadata": {
    "collapsed": false
   }
  },
  {
   "cell_type": "markdown",
   "source": [],
   "metadata": {
    "collapsed": false
   }
  },
  {
   "cell_type": "markdown",
   "source": [
    "Wpływ tempa uczenia"
   ],
   "metadata": {
    "collapsed": false
   }
  },
  {
   "cell_type": "code",
   "execution_count": null,
   "outputs": [],
   "source": [
    "loss_train, loss_val = learn(learning_rate=0.0001)\n",
    "show_plot(loss_train, loss_val)"
   ],
   "metadata": {
    "collapsed": false,
    "ExecuteTime": {
     "start_time": "2023-06-25T23:06:29.907963Z",
     "end_time": "2023-06-25T23:06:34.641746Z"
    },
    "pycharm": {
     "is_executing": true
    }
   }
  },
  {
   "cell_type": "code",
   "execution_count": null,
   "outputs": [],
   "source": [
    "loss_train, loss_val = learn(learning_rate=0.000001)\n",
    "show_plot(loss_train, loss_val)"
   ],
   "metadata": {
    "collapsed": false,
    "ExecuteTime": {
     "start_time": "2023-06-25T23:06:34.641223Z",
     "end_time": "2023-06-25T23:06:39.614489Z"
    },
    "pycharm": {
     "is_executing": true
    }
   }
  },
  {
   "cell_type": "code",
   "execution_count": null,
   "outputs": [],
   "source": [
    "loss_train, loss_val = learn(learning_rate=0.005)\n",
    "show_plot(loss_train, loss_val)"
   ],
   "metadata": {
    "collapsed": false,
    "ExecuteTime": {
     "start_time": "2023-06-25T23:06:39.612353Z",
     "end_time": "2023-06-25T23:06:45.207367Z"
    },
    "pycharm": {
     "is_executing": true
    }
   }
  },
  {
   "cell_type": "markdown",
   "source": [],
   "metadata": {
    "collapsed": false
   }
  },
  {
   "cell_type": "markdown",
   "source": [
    "jak widać tempo uczenia wpływa na wyniki, gdyż przy zbyt małym tempie uczenia model uczy się zbyt wolno, a przy zbyt dużym zbyt szybko, przez co przeuczenie występuje dosyć szybko, ponadto przy najwyższym tempie uczenia widać pewne anomalie w postaci skoków straty"
   ],
   "metadata": {
    "collapsed": false
   }
  },
  {
   "cell_type": "markdown",
   "source": [
    "Wpływ rozmiaru modelu MLP"
   ],
   "metadata": {
    "collapsed": false
   }
  },
  {
   "cell_type": "code",
   "execution_count": null,
   "outputs": [],
   "source": [
    "loss_train, loss_val = learn(model_size=(10,))\n",
    "show_plot(loss_train, loss_val)"
   ],
   "metadata": {
    "collapsed": false,
    "ExecuteTime": {
     "start_time": "2023-06-25T23:06:45.211250Z",
     "end_time": "2023-06-25T23:06:48.631390Z"
    },
    "pycharm": {
     "is_executing": true
    }
   }
  },
  {
   "cell_type": "code",
   "execution_count": null,
   "outputs": [],
   "source": [
    "loss_train, loss_val = learn(model_size=(50,))\n",
    "show_plot(loss_train, loss_val)"
   ],
   "metadata": {
    "collapsed": false,
    "ExecuteTime": {
     "start_time": "2023-06-25T23:06:48.632450Z",
     "end_time": "2023-06-25T23:06:52.819630Z"
    },
    "pycharm": {
     "is_executing": true
    }
   }
  },
  {
   "cell_type": "code",
   "execution_count": null,
   "outputs": [],
   "source": [
    "loss_train, loss_val = learn(model_size=(100,100))\n",
    "show_plot(loss_train, loss_val)"
   ],
   "metadata": {
    "collapsed": false,
    "ExecuteTime": {
     "start_time": "2023-06-25T23:06:52.819630Z",
     "end_time": "2023-06-25T23:06:58.436602Z"
    },
    "pycharm": {
     "is_executing": true
    }
   }
  },
  {
   "cell_type": "code",
   "execution_count": null,
   "outputs": [],
   "source": [
    "loss_train, loss_val = learn(model_size=(300,300,300))\n",
    "show_plot(loss_train, loss_val)"
   ],
   "metadata": {
    "collapsed": false,
    "ExecuteTime": {
     "start_time": "2023-06-25T23:06:58.436602Z",
     "end_time": "2023-06-25T23:07:14.764235Z"
    },
    "pycharm": {
     "is_executing": true
    }
   }
  },
  {
   "cell_type": "markdown",
   "source": [
    "jak widać rozmiar modelu nie ma znaczącego wpływu na wyniki nauki, gdyż straty są na podobnym poziomie"
   ],
   "metadata": {
    "collapsed": false
   }
  },
  {
   "cell_type": "markdown",
   "source": [
    "Praktyczny test modelu"
   ],
   "metadata": {
    "collapsed": false
   }
  },
  {
   "cell_type": "markdown",
   "source": [
    "Wybrałem po 3 żarty, które są mało śmieszne ze strony https://inews.co.uk/light-relief/jokes/best-bad-jokes-137688\n",
    "oraz 3 które mi się spodobały ze strony https://www.rd.com/list/funniest-jokes-of-all-time/  oraz 3 zaproponowane przez chata gpt , proces polegał na zamianie żartu w wektor a następnie wywołanie funkcji predict"
   ],
   "metadata": {
    "collapsed": false
   }
  },
  {
   "cell_type": "code",
   "execution_count": null,
   "outputs": [],
   "source": [
    "mlp = MLPRegressor(solver='sgd', alpha=0.0, learning_rate='constant',\n",
    "                   learning_rate_init=0.001, hidden_layer_sizes=(100,), max_iter=5000)\n",
    "\n",
    "mlp.fit(X_train, y_train)"
   ],
   "metadata": {
    "collapsed": false,
    "ExecuteTime": {
     "start_time": "2023-06-25T23:07:14.764235Z",
     "end_time": "2023-06-25T23:07:18.782018Z"
    },
    "pycharm": {
     "is_executing": true
    }
   }
  },
  {
   "cell_type": "code",
   "execution_count": null,
   "outputs": [],
   "source": [
    "def rate_joke(joke):\n",
    "    embedding = model.encode(joke)\n",
    "    embedding = np.reshape(embedding, (1, -1))\n",
    "    rating_prediction = mlp.predict(embedding)\n",
    "    return print(\"Ocena\", rating_prediction[0])"
   ],
   "metadata": {
    "collapsed": false,
    "ExecuteTime": {
     "start_time": "2023-06-25T23:07:18.782018Z",
     "end_time": "2023-06-25T23:07:18.787541Z"
    },
    "pycharm": {
     "is_executing": true
    }
   }
  },
  {
   "cell_type": "code",
   "execution_count": null,
   "outputs": [],
   "source": [
    "bad_joke = ['What do you call a bear without any teeth? A gummy bear!']\n",
    "rate_joke(bad_joke)"
   ],
   "metadata": {
    "collapsed": false,
    "ExecuteTime": {
     "start_time": "2023-06-25T23:07:18.789924Z",
     "end_time": "2023-06-25T23:07:18.875683Z"
    },
    "pycharm": {
     "is_executing": true
    }
   }
  },
  {
   "cell_type": "code",
   "execution_count": null,
   "outputs": [],
   "source": [
    "bad_joke = ['Does anyone need an ark? I Noah guy!']\n",
    "rate_joke(bad_joke)"
   ],
   "metadata": {
    "collapsed": false,
    "ExecuteTime": {
     "start_time": "2023-06-25T23:07:18.877064Z",
     "end_time": "2023-06-25T23:07:19.014733Z"
    },
    "pycharm": {
     "is_executing": true
    }
   }
  },
  {
   "cell_type": "code",
   "execution_count": null,
   "outputs": [],
   "source": [
    "bad_joke = ['How do you make holy water? You boil the hell out of it.']\n",
    "rate_joke(bad_joke)"
   ],
   "metadata": {
    "collapsed": false,
    "ExecuteTime": {
     "start_time": "2023-06-25T23:07:18.946171Z",
     "end_time": "2023-06-25T23:07:19.017896Z"
    },
    "pycharm": {
     "is_executing": true
    }
   }
  },
  {
   "cell_type": "code",
   "execution_count": null,
   "outputs": [],
   "source": [
    "gpt_joke = [\"Why did the scarecrow win an award? Because he was outstanding in his field!\"]\n",
    "rate_joke(gpt_joke)"
   ],
   "metadata": {
    "collapsed": false,
    "ExecuteTime": {
     "start_time": "2023-06-25T23:07:19.019613Z",
     "end_time": "2023-06-25T23:07:19.140896Z"
    },
    "pycharm": {
     "is_executing": true
    }
   }
  },
  {
   "cell_type": "code",
   "execution_count": null,
   "outputs": [],
   "source": [
    "gpt_joke = [\"What do you call a fish wearing a crown? King Neptune-tune!\"]\n",
    "rate_joke(gpt_joke)"
   ],
   "metadata": {
    "collapsed": false,
    "ExecuteTime": {
     "start_time": "2023-06-25T23:07:19.092547Z",
     "end_time": "2023-06-25T23:07:19.159963Z"
    },
    "pycharm": {
     "is_executing": true
    }
   }
  },
  {
   "cell_type": "code",
   "execution_count": null,
   "outputs": [],
   "source": [
    "gpt_joke = ['Why don’t scientists trust atoms? Because they make up everything.']\n",
    "rate_joke(gpt_joke)"
   ],
   "metadata": {
    "collapsed": false,
    "ExecuteTime": {
     "start_time": "2023-06-25T23:07:19.160390Z",
     "end_time": "2023-06-25T23:07:19.219075Z"
    },
    "pycharm": {
     "is_executing": true
    }
   }
  },
  {
   "cell_type": "code",
   "execution_count": null,
   "outputs": [],
   "source": [
    "cool_joke = [\"Why don’t pirates take a shower before they walk the plank? They just wash up on shore.\"]\n",
    "rate_joke(cool_joke)"
   ],
   "metadata": {
    "collapsed": false,
    "ExecuteTime": {
     "start_time": "2023-06-25T23:07:19.216844Z",
     "end_time": "2023-06-25T23:07:19.293763Z"
    },
    "pycharm": {
     "is_executing": true
    }
   }
  },
  {
   "cell_type": "code",
   "execution_count": null,
   "outputs": [],
   "source": [
    "cool_joke = [\"You can’t believe everything you hear—but you can repeat it.\"]\n",
    "rate_joke(cool_joke)"
   ],
   "metadata": {
    "collapsed": false,
    "ExecuteTime": {
     "start_time": "2023-06-25T23:07:19.294763Z",
     "end_time": "2023-06-25T23:07:19.367718Z"
    },
    "pycharm": {
     "is_executing": true
    }
   }
  },
  {
   "cell_type": "code",
   "execution_count": null,
   "outputs": [],
   "source": [
    "cool_joke = [\"Why the keyboard is always working? Because it has two shifts.\"]\n",
    "rate_joke(cool_joke)"
   ],
   "metadata": {
    "collapsed": false,
    "ExecuteTime": {
     "start_time": "2023-06-25T23:07:19.362052Z",
     "end_time": "2023-06-25T23:07:19.488143Z"
    },
    "pycharm": {
     "is_executing": true
    }
   }
  },
  {
   "cell_type": "markdown",
   "source": [],
   "metadata": {
    "collapsed": false
   }
  },
  {
   "cell_type": "markdown",
   "source": [
    "jak widać model ocenia żarty w sposób zgodny z moim odczuciem, gdyż żarty, które uważam za śmieszne otrzymują wysoką ocenę, a żarty, które uważam za mało śmieszne otrzymują niską ocenę lecz różnica jest bardzo niewielka, ponadto żarty zaproponowane przez chat gpt są oceniane przez sztuczną inteligencję jako najśmieszniejsze, wygląda mi to na bunt maszyn :)\n"
   ],
   "metadata": {
    "collapsed": false
   }
  },
  {
   "cell_type": "markdown",
   "source": [
    "Regularyzacja ma zapobiegać zbytniemu dopasowaniu się do danych treningowych, przez co model powinien lepiej generalizować, a straty na danych walidacyjnych powinny być mniejsze"
   ],
   "metadata": {
    "collapsed": false
   }
  },
  {
   "cell_type": "code",
   "execution_count": null,
   "outputs": [],
   "source": [
    "loss_train, loss_val = learn(regularization=0.001)\n",
    "show_plot(loss_train, loss_val)"
   ],
   "metadata": {
    "collapsed": false,
    "ExecuteTime": {
     "start_time": "2023-06-25T23:07:19.431518Z",
     "end_time": "2023-06-25T23:07:23.324697Z"
    },
    "pycharm": {
     "is_executing": true
    }
   }
  },
  {
   "cell_type": "code",
   "execution_count": null,
   "outputs": [],
   "source": [
    "loss_train, loss_val = learn(regularization=0.01)\n",
    "show_plot(loss_train, loss_val)"
   ],
   "metadata": {
    "collapsed": false,
    "ExecuteTime": {
     "start_time": "2023-06-25T23:07:23.328760Z",
     "end_time": "2023-06-25T23:07:27.400818Z"
    },
    "pycharm": {
     "is_executing": true
    }
   }
  },
  {
   "cell_type": "code",
   "execution_count": null,
   "outputs": [],
   "source": [
    "loss_train, loss_val = learn(regularization=0.1)\n",
    "show_plot(loss_train, loss_val)"
   ],
   "metadata": {
    "collapsed": false,
    "ExecuteTime": {
     "start_time": "2023-06-25T23:07:27.399735Z",
     "end_time": "2023-06-25T23:07:31.765823Z"
    },
    "pycharm": {
     "is_executing": true
    }
   }
  },
  {
   "cell_type": "code",
   "execution_count": null,
   "outputs": [],
   "source": [
    "loss_train, loss_val = learn(regularization=1.0)\n",
    "show_plot(loss_train, loss_val)"
   ],
   "metadata": {
    "collapsed": false,
    "ExecuteTime": {
     "start_time": "2023-06-25T23:07:31.767864Z",
     "end_time": "2023-06-25T23:07:36.885530Z"
    },
    "pycharm": {
     "is_executing": true
    }
   }
  },
  {
   "cell_type": "code",
   "execution_count": null,
   "outputs": [],
   "source": [
    "loss_train, loss_val = learn(regularization=10.0)\n",
    "show_plot(loss_train, loss_val)"
   ],
   "metadata": {
    "collapsed": false,
    "ExecuteTime": {
     "start_time": "2023-06-25T23:07:36.885530Z",
     "end_time": "2023-06-25T23:07:40.533147Z"
    },
    "pycharm": {
     "is_executing": true
    }
   }
  },
  {
   "cell_type": "code",
   "execution_count": null,
   "outputs": [],
   "source": [
    "loss_train, loss_val = learn(regularization=50.0)\n",
    "show_plot(loss_train, loss_val)"
   ],
   "metadata": {
    "collapsed": false,
    "ExecuteTime": {
     "start_time": "2023-06-25T23:07:40.533147Z",
     "end_time": "2023-06-25T23:07:44.311743Z"
    },
    "pycharm": {
     "is_executing": true
    }
   }
  },
  {
   "cell_type": "code",
   "execution_count": null,
   "outputs": [],
   "source": [
    "loss_train, loss_val = learn(regularization=100.0)\n",
    "show_plot(loss_train, loss_val)"
   ],
   "metadata": {
    "collapsed": false,
    "ExecuteTime": {
     "start_time": "2023-06-25T23:07:44.311743Z",
     "end_time": "2023-06-25T23:07:48.350624Z"
    },
    "pycharm": {
     "is_executing": true
    }
   }
  },
  {
   "cell_type": "code",
   "execution_count": null,
   "outputs": [],
   "source": [
    "loss_train, loss_val = learn(regularization=200)\n",
    "show_plot(loss_train, loss_val)"
   ],
   "metadata": {
    "collapsed": false,
    "ExecuteTime": {
     "start_time": "2023-06-25T23:07:48.340512Z",
     "end_time": "2023-06-25T23:07:52.168935Z"
    },
    "pycharm": {
     "is_executing": true
    }
   }
  },
  {
   "cell_type": "code",
   "execution_count": null,
   "outputs": [],
   "source": [
    "loss_train, loss_val = learn(regularization=500.0)\n",
    "show_plot(loss_train, loss_val)"
   ],
   "metadata": {
    "collapsed": false,
    "ExecuteTime": {
     "start_time": "2023-06-25T23:07:52.172974Z",
     "end_time": "2023-06-25T23:07:56.607733Z"
    },
    "pycharm": {
     "is_executing": true
    }
   }
  },
  {
   "cell_type": "markdown",
   "source": [],
   "metadata": {
    "collapsed": false
   }
  },
  {
   "cell_type": "code",
   "execution_count": null,
   "outputs": [],
   "source": [],
   "metadata": {
    "collapsed": false,
    "ExecuteTime": {
     "start_time": "2023-06-25T23:07:56.610294Z",
     "end_time": "2023-06-25T23:07:56.610806Z"
    },
    "pycharm": {
     "is_executing": true
    }
   }
  },
  {
   "cell_type": "markdown",
   "source": [
    "Regularyzacja faktycznie spełnia swoje zadanie i zapobiega przeuczeniu, gdyż straty na danych walidacyjnych są mniejsze niż straty na danych treningowych, a straty na danych treningowych są większe niż straty bez regularyzacji, jednak dzieje się tak gdy parametr ten ustawimy na około 50 , przy niskich wartościach zmiany nie są zauważalne a przy wyższych zaczyna dochodzić do anomalii."
   ],
   "metadata": {
    "collapsed": false
   }
  }
 ],
 "metadata": {
  "kernelspec": {
   "display_name": "Python 3",
   "language": "python",
   "name": "python3"
  },
  "language_info": {
   "codemirror_mode": {
    "name": "ipython",
    "version": 2
   },
   "file_extension": ".py",
   "mimetype": "text/x-python",
   "name": "python",
   "nbconvert_exporter": "python",
   "pygments_lexer": "ipython2",
   "version": "2.7.6"
  }
 },
 "nbformat": 4,
 "nbformat_minor": 0
}
